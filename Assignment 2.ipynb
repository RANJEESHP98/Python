{
 "cells": [
  {
   "cell_type": "code",
   "execution_count": 21,
   "id": "9ac59fa0-682d-47f3-9fcc-494d243e87be",
   "metadata": {},
   "outputs": [],
   "source": [
    "# List of numbers\n",
    "x=[25,35,40,60,80]\n"
   ]
  },
  {
   "cell_type": "code",
   "execution_count": 23,
   "id": "f5f11cd9-1b50-4ff8-ad99-e945fa17e088",
   "metadata": {},
   "outputs": [
    {
     "name": "stdout",
     "output_type": "stream",
     "text": [
      "[25, 35, 40, 60, 80]\n"
     ]
    }
   ],
   "source": [
    "print (x)"
   ]
  },
  {
   "cell_type": "code",
   "execution_count": 1,
   "id": "5aa57fff-b556-48e6-9c4f-17b55f47abec",
   "metadata": {},
   "outputs": [
    {
     "name": "stdout",
     "output_type": "stream",
     "text": [
      "the list of random numbers are [25, 35, 40, 60, 80]\n"
     ]
    }
   ],
   "source": [
    " # Creating a list of 5 random numbers using a\n",
    "a = [25,35,40,60,80]\n",
    "print('the list of random numbers are',a)"
   ]
  },
  {
   "cell_type": "code",
   "execution_count": 3,
   "id": "b54952e6-ed3e-474e-aa48-ad4e1a617538",
   "metadata": {},
   "outputs": [
    {
     "data": {
      "text/plain": [
       "list"
      ]
     },
     "execution_count": 3,
     "metadata": {},
     "output_type": "execute_result"
    }
   ],
   "source": [
    "type(a)"
   ]
  },
  {
   "cell_type": "code",
   "execution_count": 11,
   "id": "e1294a24-4273-4743-9834-95a962afac45",
   "metadata": {},
   "outputs": [],
   "source": [
    "a[0] = 95\n",
    "a[1] = 99\n",
    "a[2] = 1\n"
   ]
  },
  {
   "cell_type": "code",
   "execution_count": 13,
   "id": "9b689ff7-899e-4826-9207-15fe0eb54fd3",
   "metadata": {},
   "outputs": [
    {
     "name": "stdout",
     "output_type": "stream",
     "text": [
      "the list of random numbers are [95, 99, 1, 60, 80]\n"
     ]
    }
   ],
   "source": [
    "print('the list of random numbers are',a)"
   ]
  },
  {
   "cell_type": "code",
   "execution_count": 25,
   "id": "dbbaddcb-5a1e-46c9-9565-5c7032487641",
   "metadata": {},
   "outputs": [
    {
     "name": "stdout",
     "output_type": "stream",
     "text": [
      "The details of the person is: {'Name': 'John', 'Age': '25', 'Address': 'New York'}\n"
     ]
    }
   ],
   "source": [
    "# Dictionary\n",
    "person = {\"Name\":\"John\",\"Age\":\"25\",\"Address\":\"New York\"}\n",
    "print(\"The details of the person is:\",person)"
   ]
  },
  {
   "cell_type": "code",
   "execution_count": 31,
   "id": "c068410e-e31d-4aed-8e4d-aa45272deac1",
   "metadata": {},
   "outputs": [],
   "source": [
    "person['Phone']='1234567890'"
   ]
  },
  {
   "cell_type": "code",
   "execution_count": 33,
   "id": "49ef185b-290a-4bbc-9c96-dac8dbd8557b",
   "metadata": {},
   "outputs": [
    {
     "name": "stdout",
     "output_type": "stream",
     "text": [
      "The details of the person is: {'Name': 'John', 'Age': '25', 'Address': 'New York', 'Phone': '1234567890'}\n"
     ]
    }
   ],
   "source": [
    "print(\"The details of the person is:\",person)"
   ]
  },
  {
   "cell_type": "code",
   "execution_count": 35,
   "id": "4251fdd1-37dc-49ce-b065-e046abec5790",
   "metadata": {},
   "outputs": [],
   "source": [
    "#set\n",
    "\n",
    "s = {1,2,3,4}"
   ]
  },
  {
   "cell_type": "code",
   "execution_count": 37,
   "id": "2e4ed3c0-5318-46cc-9c74-abce2c82c598",
   "metadata": {},
   "outputs": [
    {
     "data": {
      "text/plain": [
       "set"
      ]
     },
     "execution_count": 37,
     "metadata": {},
     "output_type": "execute_result"
    }
   ],
   "source": [
    "type(s)"
   ]
  },
  {
   "cell_type": "code",
   "execution_count": 53,
   "id": "e317f6a3-86bb-4858-a808-04acea8cdf4d",
   "metadata": {},
   "outputs": [
    {
     "name": "stdout",
     "output_type": "stream",
     "text": [
      "{1, 2, 3, 4, 6}\n"
     ]
    }
   ],
   "source": [
    "s.add (6)\n",
    "print (s)"
   ]
  },
  {
   "cell_type": "code",
   "execution_count": 55,
   "id": "fc891a96-2368-4f46-8572-49729a5659cd",
   "metadata": {},
   "outputs": [
    {
     "name": "stdout",
     "output_type": "stream",
     "text": [
      "{1, 2, 4, 6}\n"
     ]
    }
   ],
   "source": [
    "s.remove(3)\n",
    "print (s)"
   ]
  },
  {
   "cell_type": "code",
   "execution_count": 57,
   "id": "d5ca9344-b823-481a-966f-386544491ac4",
   "metadata": {},
   "outputs": [
    {
     "name": "stdout",
     "output_type": "stream",
     "text": [
      "(1, 2, 3, 4)\n"
     ]
    }
   ],
   "source": [
    "# Tuple\n",
    "t = (1,2,3,4)\n",
    "print (t)"
   ]
  },
  {
   "cell_type": "code",
   "execution_count": 59,
   "id": "966fd2e9-d2a1-42ec-a01c-c2801c560c4c",
   "metadata": {},
   "outputs": [
    {
     "data": {
      "text/plain": [
       "tuple"
      ]
     },
     "execution_count": 59,
     "metadata": {},
     "output_type": "execute_result"
    }
   ],
   "source": [
    "type(t)"
   ]
  },
  {
   "cell_type": "code",
   "execution_count": 61,
   "id": "a2dafa3b-0027-4110-9df5-59a1d7b31f07",
   "metadata": {},
   "outputs": [
    {
     "name": "stdout",
     "output_type": "stream",
     "text": [
      "the length of tuple is: 4\n"
     ]
    }
   ],
   "source": [
    "length =len(t)\n",
    "print (\"the length of tuple is:\",length)\n"
   ]
  },
  {
   "cell_type": "code",
   "execution_count": null,
   "id": "61f71f08-18eb-49d9-9bb5-f4df6b781c9f",
   "metadata": {},
   "outputs": [],
   "source": []
  }
 ],
 "metadata": {
  "kernelspec": {
   "display_name": "Python [conda env:base] *",
   "language": "python",
   "name": "conda-base-py"
  },
  "language_info": {
   "codemirror_mode": {
    "name": "ipython",
    "version": 3
   },
   "file_extension": ".py",
   "mimetype": "text/x-python",
   "name": "python",
   "nbconvert_exporter": "python",
   "pygments_lexer": "ipython3",
   "version": "3.12.7"
  }
 },
 "nbformat": 4,
 "nbformat_minor": 5
}
