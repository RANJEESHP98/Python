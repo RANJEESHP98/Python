{
 "cells": [
  {
   "cell_type": "code",
   "execution_count": 91,
   "id": "8938d3ca-03e8-4b30-baae-7e9e824603ce",
   "metadata": {},
   "outputs": [],
   "source": [
    "def arguments(a, b= 10,d= 'None'):\n",
    "    if d is None:\n",
    "        sum= a+b\n",
    "        print(f'The sum of {a} and{b} is,{sum}')\n",
    "    else:\n",
    "        product = a* b* d\n",
    "        print(f'The product of three argument is,{product}')\n",
    "    "
   ]
  },
  {
   "cell_type": "code",
   "execution_count": 99,
   "id": "c2ed55a1-81d8-429e-bed9-c10f19464774",
   "metadata": {},
   "outputs": [
    {
     "name": "stdout",
     "output_type": "stream",
     "text": [
      "The sum of 10 and5 is,15\n"
     ]
    }
   ],
   "source": [
    "arguments(10,5,None)"
   ]
  },
  {
   "cell_type": "code",
   "execution_count": 127,
   "id": "0bf713c9-0cc8-4a57-ac3c-49f602982e2a",
   "metadata": {},
   "outputs": [],
   "source": [
    "def word(string):\n",
    "    sentence =[]\n",
    "    for s in string:\n",
    "        if len(s)>=5:\n",
    "            sentence.append(s)\n",
    "        return sentence\n"
   ]
  },
  {
   "cell_type": "code",
   "execution_count": 129,
   "id": "7706d170-1f75-4221-98f6-eb0e8c00d1a2",
   "metadata": {},
   "outputs": [
    {
     "name": "stdout",
     "output_type": "stream",
     "text": [
      "['apple']\n"
     ]
    }
   ],
   "source": [
    "w=(\"apple\",\"bananna\",\"\",\"My\",\"WORLD\")\n",
    "result = word(w)\n",
    "print(result)"
   ]
  },
  {
   "cell_type": "code",
   "execution_count": 105,
   "id": "8f93c74e-f0a1-4ba3-8ddd-adf31214d423",
   "metadata": {},
   "outputs": [
    {
     "name": "stdout",
     "output_type": "stream",
     "text": [
      "17\n"
     ]
    }
   ],
   "source": [
    "x = 3\n",
    "y = 5\n",
    "z = 2\n",
    "expression = \"x*y+z\"\n",
    "result = eval(expression)\n",
    "print(result)"
   ]
  },
  {
   "cell_type": "code",
   "execution_count": 67,
   "id": "7ee169f6-387e-4360-a99a-8c0755fc5212",
   "metadata": {},
   "outputs": [
    {
     "name": "stdout",
     "output_type": "stream",
     "text": [
      "[1, 3, 5, 7]\n"
     ]
    }
   ],
   "source": [
    "def num (n):\n",
    "    return n%2 == 1\n",
    "numbers = [1,2,3,4,5,6,7,8]\n",
    "prime_numbers = filter(num,numbers)\n",
    "print(list(prime_numbers))"
   ]
  },
  {
   "cell_type": "code",
   "execution_count": 75,
   "id": "ddf46c7a-d630-4f41-8626-9bcc9b3ffe2a",
   "metadata": {},
   "outputs": [
    {
     "name": "stdout",
     "output_type": "stream",
     "text": [
      "['HELLO!!!', 'WELCOME', 'TO', 'MY', 'WORLD']\n"
     ]
    }
   ],
   "source": [
    "def upper_case (a):\n",
    "    return a.upper ()\n",
    "sentence = [\"Hello!!!\",\"Welcome\" ,\"to\",\"My\",\"World\"]\n",
    "case=list(map(upper_case,sentence))\n",
    "print(case)"
   ]
  },
  {
   "cell_type": "code",
   "execution_count": null,
   "id": "4068666d-1bb7-4435-bdac-541498346adb",
   "metadata": {},
   "outputs": [],
   "source": []
  }
 ],
 "metadata": {
  "kernelspec": {
   "display_name": "Python [conda env:base] *",
   "language": "python",
   "name": "conda-base-py"
  },
  "language_info": {
   "codemirror_mode": {
    "name": "ipython",
    "version": 3
   },
   "file_extension": ".py",
   "mimetype": "text/x-python",
   "name": "python",
   "nbconvert_exporter": "python",
   "pygments_lexer": "ipython3",
   "version": "3.12.7"
  }
 },
 "nbformat": 4,
 "nbformat_minor": 5
}
