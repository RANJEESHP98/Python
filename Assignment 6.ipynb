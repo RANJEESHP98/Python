{
 "cells": [
  {
   "cell_type": "code",
   "execution_count": 24,
   "id": "d503f644-cb1c-4de4-b3c3-4b2ba6b62272",
   "metadata": {},
   "outputs": [],
   "source": [
    "class Course:\n",
    "    def __init__(self,course_code,course_name,course_credit):\n",
    "        \n",
    "        self.course_code = course_code\n",
    "        self.course_name = course_name\n",
    "        self.course_credit = course_credit\n",
    "    def details(self):\n",
    "        return f'Code:{self.course_code} Course:{self.course_name } Credit: {self.course_credit}'\n",
    "        \n",
    "        \n",
    "\n",
    "    "
   ]
  },
  {
   "cell_type": "code",
   "execution_count": 26,
   "id": "d558ba5e-055a-49b2-8b4e-917ce5e0e090",
   "metadata": {},
   "outputs": [],
   "source": [
    "cr1 = Course('py001','DSML',50)"
   ]
  },
  {
   "cell_type": "code",
   "execution_count": 28,
   "id": "ab69ded8-2781-45ea-8001-3cdc54338aee",
   "metadata": {},
   "outputs": [
    {
     "name": "stdout",
     "output_type": "stream",
     "text": [
      "Code:py001 Course:DSML Credit: 50\n"
     ]
    }
   ],
   "source": [
    "print (cr1.details())"
   ]
  },
  {
   "cell_type": "code",
   "execution_count": 30,
   "id": "3e3fd1a7-41f0-49df-b0f6-5cf5c881d6d2",
   "metadata": {},
   "outputs": [],
   "source": [
    "class Core_course(Course):\n",
    "    def __init__(self,course_code,course_name,course_credit,major):\n",
    "        super().__init__(course_code,course_name,course_credit)\n",
    "        self.major = major\n",
    "class Elective_course(Course):\n",
    "    def __init__(self, course_code, course_name, course_credit,elective_type):\n",
    "        super().__init__(course_code, course_name, credits) \n",
    "        self.elective_type = elective_type"
   ]
  },
  {
   "cell_type": "code",
   "execution_count": 36,
   "id": "5883cace-dfef-4000-9151-f4214e37e6ba",
   "metadata": {},
   "outputs": [],
   "source": [
    "cr1 = Course('py001','DSML',50)\n",
    "cr2 = Core_course('py001','DSML',25,'Programming')\n",
    "cr3 = Elective_course('py001','DSML',25,'Soft Skill')"
   ]
  },
  {
   "cell_type": "code",
   "execution_count": 38,
   "id": "f4814abd-1c80-42fd-a99d-88cedbc38791",
   "metadata": {},
   "outputs": [
    {
     "name": "stdout",
     "output_type": "stream",
     "text": [
      "The details of Course Code:py001 Course:DSML Credit: 50\n",
      "Core Course is  Programming\n",
      "Elevate Type is Soft Skill\n"
     ]
    }
   ],
   "source": [
    "print('The details of Course',cr1.details())\n",
    "print('Core Course is ', cr2.major)\n",
    "print('Elevate Type is', cr3.elective_type)"
   ]
  },
  {
   "cell_type": "markdown",
   "id": "41ff5cab-8017-4d3e-87eb-27fb6fb16c28",
   "metadata": {},
   "source": [
    "# Question 2"
   ]
  },
  {
   "cell_type": "code",
   "execution_count": 1,
   "id": "c89fc21e-6e05-4f1f-b29c-65522a3c0adf",
   "metadata": {},
   "outputs": [],
   "source": [
    "class Employee:\n",
    "    def set_name(self,name):\n",
    "        self.name = name\n",
    "    def set_salary(self,salary):\n",
    "        self.salary = salary\n",
    "    def get_name(self):\n",
    "        return self.name\n",
    "\n",
    "    def get_salary(self):\n",
    "        return self.salary\n",
    "    "
   ]
  },
  {
   "cell_type": "code",
   "execution_count": 3,
   "id": "4592b463-b541-44c3-9e18-f8262711664c",
   "metadata": {},
   "outputs": [],
   "source": [
    "from employee import Employee\n",
    "emp = Employee()"
   ]
  },
  {
   "cell_type": "code",
   "execution_count": 7,
   "id": "de546f4c-5681-4398-9980-5b6ec316535e",
   "metadata": {},
   "outputs": [],
   "source": [
    "emp.set_name(\"AMAL\")\n",
    "emp.set_salary(25000)"
   ]
  },
  {
   "cell_type": "code",
   "execution_count": 17,
   "id": "eee2ee7c-1aef-48fe-b4e3-56a5a74f3ca2",
   "metadata": {},
   "outputs": [
    {
     "name": "stdout",
     "output_type": "stream",
     "text": [
      "Employee Name: AMAL and Salary: 25000\n"
     ]
    }
   ],
   "source": [
    "print(f'Employee Name: {emp.get_name()} and Salary: {emp.get_salary()}')"
   ]
  },
  {
   "cell_type": "code",
   "execution_count": null,
   "id": "89b925d5-f39f-424e-aee0-d56c5624bd6f",
   "metadata": {},
   "outputs": [],
   "source": []
  }
 ],
 "metadata": {
  "kernelspec": {
   "display_name": "Python [conda env:base] *",
   "language": "python",
   "name": "conda-base-py"
  },
  "language_info": {
   "codemirror_mode": {
    "name": "ipython",
    "version": 3
   },
   "file_extension": ".py",
   "mimetype": "text/x-python",
   "name": "python",
   "nbconvert_exporter": "python",
   "pygments_lexer": "ipython3",
   "version": "3.12.7"
  }
 },
 "nbformat": 4,
 "nbformat_minor": 5
}
