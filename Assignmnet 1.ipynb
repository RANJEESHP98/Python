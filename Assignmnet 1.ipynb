{
 "cells": [
  {
   "cell_type": "code",
   "execution_count": 3,
   "id": "7b68371f-7822-4b15-bbdf-2fecf87cc7a5",
   "metadata": {},
   "outputs": [
    {
     "name": "stdout",
     "output_type": "stream",
     "text": [
      " Ranjeesh Perumbidi\n",
      " D460018\n",
      " ranjeeshp1998@gmail.com\n"
     ]
    }
   ],
   "source": [
    "print(\" Ranjeesh Perumbidi\")\n",
    "print (\" D460018\")\n",
    "print (\" ranjeeshp1998@gmail.com\")"
   ]
  },
  {
   "cell_type": "code",
   "execution_count": 17,
   "id": "40c3bd49-b13d-4b99-8223-0e3a3952bf8f",
   "metadata": {},
   "outputs": [
    {
     "name": "stdout",
     "output_type": "stream",
     "text": [
      "\tRanjeesh Perumbidi\n",
      "\tD460018\n",
      "\tranjeeshp1998@gmail.com\n"
     ]
    }
   ],
   "source": [
    "print(\"\\tRanjeesh Perumbidi\\n\\tD460018\\n\\tranjeeshp1998@gmail.com\")"
   ]
  },
  {
   "cell_type": "code",
   "execution_count": 6,
   "id": "64a72786-057c-4aa2-9e22-9a6cb4253317",
   "metadata": {},
   "outputs": [
    {
     "name": "stdout",
     "output_type": "stream",
     "text": [
      "14 + 7 = 7\n",
      "14 - 7 = 7\n",
      "14 * 7 = 98\n",
      "14 / 7 = 2 \n"
     ]
    }
   ],
   "source": [
    "\n",
    "print (\"14 + 7 = 7\")\n",
    "print (\"14 - 7 = 7\")\n",
    "print (\"14 * 7 = 98\")\n",
    "print (\"14 / 7 = 2 \")\n"
   ]
  },
  {
   "cell_type": "code",
   "execution_count": 15,
   "id": "0b996f4d-ee40-4489-b796-48517c19e505",
   "metadata": {},
   "outputs": [
    {
     "name": "stdout",
     "output_type": "stream",
     "text": [
      "1\n",
      "2\n",
      "3\n",
      "4\n",
      "5\n"
     ]
    }
   ],
   "source": [
    "print(\"1\")\n",
    "print(\"2\")\n",
    "print(\"3\")\n",
    "print(\"4\")\n",
    "print(\"5\")"
   ]
  },
  {
   "cell_type": "code",
   "execution_count": 21,
   "id": "bf71245d-4016-49ac-a0a4-11399a4ae064",
   "metadata": {},
   "outputs": [
    {
     "name": "stdout",
     "output_type": "stream",
     "text": [
      "\"SDK\" stands for \"Software Development Kit\",whereas\n",
      "\"IDE\" stands for \"Integrated Development Environment\" \n"
     ]
    }
   ],
   "source": [
    "print ('\"SDK\" stands for \"Software Development Kit\",whereas\\n\"IDE\" stands for \"Integrated Development Environment\" ')"
   ]
  },
  {
   "cell_type": "code",
   "execution_count": 23,
   "id": "b14d614a-7444-4abd-9f54-7554143208da",
   "metadata": {},
   "outputs": [
    {
     "name": "stdout",
     "output_type": "stream",
     "text": [
      "python is an \"awesome\" language.\n",
      "python\n",
      "\t2023\n",
      "I'm from Entri\n",
      "5\n",
      "e\n",
      "Entri\n",
      "2023\n",
      "Entr2023\n",
      "Entri*20"
     ]
    }
   ],
   "source": [
    "print(\"python is an \\\"awesome\\\" language.\")\n",
    "print(\"python\\n\\t2023\")\n",
    "print('I\\'m from Entri.\\b')\n",
    "print(\"\\65\")\n",
    "print(\"\\x65\")\n",
    "print(\"Entri\", \"2023\", sep=\"\\n\")\n",
    "print(\"Entri\", \"2023\", sep=\"\\b\")\n",
    "print(\"Entri\", \"2023\", sep=\"*\", end=\"\\b\\b\\b\\b\")\n"
   ]
  },
  {
   "cell_type": "code",
   "execution_count": 31,
   "id": "24797e58-0d5c-48de-9954-233e2a0ea7ac",
   "metadata": {},
   "outputs": [],
   "source": [
    "num=23\n",
    "textnum=\"57\"\n",
    "decimal=98.3\n"
   ]
  },
  {
   "cell_type": "code",
   "execution_count": 55,
   "id": "18dcc57b-61f5-4a50-838c-9b6455a48741",
   "metadata": {},
   "outputs": [
    {
     "name": "stdout",
     "output_type": "stream",
     "text": [
      "<class 'int'>\n",
      "<class 'str'>\n",
      "<class 'float'>\n"
     ]
    }
   ],
   "source": [
    "print(type(num))\n",
    "print(type(textnum))\n",
    "print (type(decimal))"
   ]
  },
  {
   "cell_type": "code",
   "execution_count": 61,
   "id": "f79cf21f-7cd6-4d21-b851-9aa4bfcc9c19",
   "metadata": {},
   "outputs": [
    {
     "name": "stdout",
     "output_type": "stream",
     "text": [
      "the sum of the variables is : 178.3\n"
     ]
    }
   ],
   "source": [
    "num=23\n",
    "textnum=\"57\"\n",
    "decimal=98.3\n",
    "total_sum = num+textnumint+decimal\n",
    "\n",
    "# change the textnum into integer \n",
    "textnumint = int(textnum)\n",
    "\n",
    "print('the sum of the variables is :', total_sum)\n",
    "\n"
   ]
  },
  {
   "cell_type": "code",
   "execution_count": 69,
   "id": "9d76c805-e752-4951-b9aa-b38a146d8d23",
   "metadata": {},
   "outputs": [
    {
     "data": {
      "text/plain": [
       "float"
      ]
     },
     "execution_count": 69,
     "metadata": {},
     "output_type": "execute_result"
    }
   ],
   "source": [
    " type(total_sum)"
   ]
  },
  {
   "cell_type": "code",
   "execution_count": 75,
   "id": "3e299cc4-33f6-4f30-a343-233380bd3ffa",
   "metadata": {},
   "outputs": [
    {
     "name": "stdout",
     "output_type": "stream",
     "text": [
      "Total number of minutes in a year: 525600\n"
     ]
    }
   ],
   "source": [
    "a = 365\n",
    "b= 60 \n",
    "c = 24\n",
    "d= a*c*b\n",
    "\n",
    "print('Total number of minutes in a year:',d)"
   ]
  },
  {
   "cell_type": "code",
   "execution_count": 77,
   "id": "283a7e54-a22e-4d8b-8fd5-dbd5e282c89e",
   "metadata": {},
   "outputs": [
    {
     "name": "stdin",
     "output_type": "stream",
     "text": [
      " Please enter your name Ranjeesh\n"
     ]
    },
    {
     "name": "stdout",
     "output_type": "stream",
     "text": [
      "Hello,Ranjeesh welcome to python programming\n"
     ]
    }
   ],
   "source": [
    "name = input(\" Please enter your name\")\n",
    "print(f\"Hello,{name} welcome to python programming\")"
   ]
  },
  {
   "cell_type": "code",
   "execution_count": 89,
   "id": "7fc3be27-095c-45ad-97e8-e3b7af3e2518",
   "metadata": {},
   "outputs": [
    {
     "name": "stdin",
     "output_type": "stream",
     "text": [
      "enter an amount in pounds (£):  10\n"
     ]
    },
    {
     "name": "stdout",
     "output_type": "stream",
     "text": [
      "10.0 is equal to 12.5\n"
     ]
    }
   ],
   "source": [
    "dollar_rate  = 1.25\n",
    "pounds = float(input(\"enter an amount in pounds (£): \"))\n",
    "dollar = pounds * dollar_rate\n",
    "\n",
    "print(f\"{pounds} is equal to {dollar}\")\n"
   ]
  },
  {
   "cell_type": "code",
   "execution_count": null,
   "id": "779ea64d-b896-4aa8-a29e-11ee03d89851",
   "metadata": {},
   "outputs": [],
   "source": []
  }
 ],
 "metadata": {
  "kernelspec": {
   "display_name": "Python [conda env:base] *",
   "language": "python",
   "name": "conda-base-py"
  },
  "language_info": {
   "codemirror_mode": {
    "name": "ipython",
    "version": 3
   },
   "file_extension": ".py",
   "mimetype": "text/x-python",
   "name": "python",
   "nbconvert_exporter": "python",
   "pygments_lexer": "ipython3",
   "version": "3.12.7"
  }
 },
 "nbformat": 4,
 "nbformat_minor": 5
}
