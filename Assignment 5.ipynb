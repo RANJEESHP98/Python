{
 "cells": [
  {
   "cell_type": "code",
   "execution_count": 7,
   "id": "221c24c6-6625-43fe-9f6b-2024a3a2ed25",
   "metadata": {},
   "outputs": [
    {
     "name": "stdout",
     "output_type": "stream",
     "text": [
      "The data in this file is:\n",
      "MR.Ranjeesh is a highly talented student. He has ability to adapt to new technology with out any limits. He is a open-minded person.\n"
     ]
    }
   ],
   "source": [
    "with open(\"C:/Users/ranje/MY data.txt\",\"r\") as my_data:\n",
    "    content = my_data.read()\n",
    "    print(\"The data in this file is:\")\n",
    "    print(content)\n",
    "        "
   ]
  },
  {
   "cell_type": "code",
   "execution_count": 9,
   "id": "28ee5343-267a-467f-9652-ffa3d93c061c",
   "metadata": {},
   "outputs": [
    {
     "name": "stdout",
     "output_type": "stream",
     "text": [
      "copy of a content from <_io.TextIOWrapper name='C:/Users/ranje/Old data.txt' mode='r' encoding='cp1252'>to<_io.TextIOWrapper name='C:/Users/ranje/MY data.txt' mode='w' encoding='cp1252'>\n"
     ]
    }
   ],
   "source": [
    "source_file = \"C:/Users/ranje/Old data.txt\"\n",
    "desitination_file = \"C:/Users/ranje/MY data.txt\"\n",
    "with open(source_file,'r') as old_file:\n",
    "    content =old_file.read()\n",
    "with open(desitination_file,'w') as new_file:\n",
    "    new_file.write(content)\n",
    "\n",
    "print(f\"copy of a content from {old_file}to{new_file}\")\n",
    "    "
   ]
  },
  {
   "cell_type": "code",
   "execution_count": 11,
   "id": "8c493bf9-bb64-4a0c-824f-08574cc72abb",
   "metadata": {},
   "outputs": [
    {
     "name": "stdout",
     "output_type": "stream",
     "text": [
      "the data in a file: MR.Ranjeesh is a highly talented student. He has ability to adapt to new technology with out any limits. He is a open-minded person.\n",
      "the number of words is: 23\n"
     ]
    }
   ],
   "source": [
    "file = \"C:/Users/ranje/Old data.txt\"\n",
    "with open(file,'r') as file_read:\n",
    "    content = file_read.read()\n",
    "    count_words = content.split()\n",
    "    no_of_words = len(count_words)\n",
    "\n",
    "print(f\"the data in a file: {content}\")\n",
    "print(f\"the number of words is: {no_of_words}\")"
   ]
  },
  {
   "cell_type": "code",
   "execution_count": 13,
   "id": "6dfb7d8b-1ec2-43e4-bdfb-31bdd8fc4751",
   "metadata": {},
   "outputs": [],
   "source": [
    "def value (string_value):\n",
    "    try:\n",
    "        int_value = int(string_value)\n",
    "        print(f\" The entered  value is {int_value} is an integer!\")\n",
    "    except ValueError:\n",
    "        print(f\"The entered  value is {string_value} is not an integer!\")"
   ]
  },
  {
   "cell_type": "code",
   "execution_count": 15,
   "id": "fd49728b-c0b6-4c8b-8ac6-cba76678133a",
   "metadata": {},
   "outputs": [
    {
     "name": "stdout",
     "output_type": "stream",
     "text": [
      " The entered  value is 123 is an integer!\n",
      "The entered  value is KL007 is not an integer!\n",
      "The entered  value is ranj is not an integer!\n"
     ]
    }
   ],
   "source": [
    "value(\"123\")\n",
    "value(\"KL007\")\n",
    "value(\"ranj\")"
   ]
  },
  {
   "cell_type": "code",
   "execution_count": 174,
   "id": "aa85c0e3-c9fc-4cb6-a0cf-271f161f9df5",
   "metadata": {},
   "outputs": [
    {
     "name": "stdin",
     "output_type": "stream",
     "text": [
      "Enter a possitive integer l\n"
     ]
    },
    {
     "name": "stdout",
     "output_type": "stream",
     "text": [
      "The entered number is not valid invalid literal for int() with base 10: 'l'\n"
     ]
    },
    {
     "ename": "TypeError",
     "evalue": "'<' not supported between instances of 'str' and 'int'",
     "output_type": "error",
     "traceback": [
      "\u001b[1;31m---------------------------------------------------------------------------\u001b[0m",
      "\u001b[1;31mValueError\u001b[0m                                Traceback (most recent call last)",
      "Cell \u001b[1;32mIn[174], line 4\u001b[0m, in \u001b[0;36minteger\u001b[1;34m()\u001b[0m\n\u001b[0;32m      3\u001b[0m \u001b[38;5;28;01mtry\u001b[39;00m:\n\u001b[1;32m----> 4\u001b[0m     num \u001b[38;5;241m=\u001b[39m \u001b[38;5;28mint\u001b[39m(number)\n\u001b[0;32m      5\u001b[0m \u001b[38;5;28;01mexcept\u001b[39;00m \u001b[38;5;167;01mValueError\u001b[39;00m \u001b[38;5;28;01mas\u001b[39;00m error:\n",
      "\u001b[1;31mValueError\u001b[0m: invalid literal for int() with base 10: 'l'",
      "\nDuring handling of the above exception, another exception occurred:\n",
      "\u001b[1;31mTypeError\u001b[0m                                 Traceback (most recent call last)",
      "Cell \u001b[1;32mIn[174], line 11\u001b[0m\n\u001b[0;32m      9\u001b[0m     \u001b[38;5;28;01mexcept\u001b[39;00m \u001b[38;5;167;01mValueError\u001b[39;00m:\n\u001b[0;32m     10\u001b[0m         \u001b[38;5;28mprint\u001b[39m(\u001b[38;5;124m\"\u001b[39m\u001b[38;5;124mThe enterd number is  not correct\u001b[39m\u001b[38;5;124m\"\u001b[39m)\n\u001b[1;32m---> 11\u001b[0m integer()\n",
      "Cell \u001b[1;32mIn[174], line 7\u001b[0m, in \u001b[0;36minteger\u001b[1;34m()\u001b[0m\n\u001b[0;32m      5\u001b[0m \u001b[38;5;28;01mexcept\u001b[39;00m \u001b[38;5;167;01mValueError\u001b[39;00m \u001b[38;5;28;01mas\u001b[39;00m error:\n\u001b[0;32m      6\u001b[0m     \u001b[38;5;28mprint\u001b[39m(\u001b[38;5;124m\"\u001b[39m\u001b[38;5;124mThe entered number is not valid\u001b[39m\u001b[38;5;124m\"\u001b[39m,error)\n\u001b[1;32m----> 7\u001b[0m     \u001b[38;5;28;01mif\u001b[39;00m number\u001b[38;5;241m<\u001b[39m\u001b[38;5;241m0\u001b[39m:\n\u001b[0;32m      8\u001b[0m         \u001b[38;5;28mprint\u001b[39m(\u001b[38;5;124m\"\u001b[39m\u001b[38;5;124mThe number is  a possitive integer\u001b[39m\u001b[38;5;124m\"\u001b[39m)\n\u001b[0;32m      9\u001b[0m \u001b[38;5;28;01mexcept\u001b[39;00m \u001b[38;5;167;01mValueError\u001b[39;00m:\n",
      "\u001b[1;31mTypeError\u001b[0m: '<' not supported between instances of 'str' and 'int'"
     ]
    }
   ],
   "source": [
    "def integer():\n",
    "    number = input(\"Enter a possitive integer\")\n",
    "    try:\n",
    "        num = int(number)\n",
    "    except ValueError as error:\n",
    "        print(\"The entered number is not valid\",error)\n",
    "        if number<0:\n",
    "            print(\"The number is  a possitive integer\")\n",
    "    except ValueError:\n",
    "        print(\"The enterd number is  not correct\")\n",
    "integer()\n",
    "        \n",
    "\n",
    "        "
   ]
  },
  {
   "cell_type": "code",
   "execution_count": 35,
   "id": "607fbf21-bcb4-476f-a5ee-dea9bff02f9b",
   "metadata": {},
   "outputs": [
    {
     "ename": "TypeError",
     "evalue": "integer() takes 1 positional argument but 3 were given",
     "output_type": "error",
     "traceback": [
      "\u001b[1;31m---------------------------------------------------------------------------\u001b[0m",
      "\u001b[1;31mTypeError\u001b[0m                                 Traceback (most recent call last)",
      "Cell \u001b[1;32mIn[35], line 1\u001b[0m\n\u001b[1;32m----> 1\u001b[0m integer(\u001b[38;5;241m5\u001b[39m,\u001b[38;5;241m-\u001b[39m\u001b[38;5;241m1\u001b[39m,\u001b[38;5;241m10\u001b[39m)\n",
      "\u001b[1;31mTypeError\u001b[0m: integer() takes 1 positional argument but 3 were given"
     ]
    }
   ],
   "source": [
    "integer(5,-1,10)"
   ]
  },
  {
   "cell_type": "code",
   "execution_count": 106,
   "id": "22095404-d976-4c97-977d-20d5dabff60f",
   "metadata": {},
   "outputs": [
    {
     "name": "stdin",
     "output_type": "stream",
     "text": [
      "Enter a list of  number l\n"
     ]
    },
    {
     "name": "stdout",
     "output_type": "stream",
     "text": [
      "The enter value is not valid\n",
      "The program has finished running\n"
     ]
    }
   ],
   "source": [
    "def integer():\n",
    "    value =input(\"Enter a list of  number\")\n",
    "    try:\n",
    "        value = [int(x) for x in value.split()]\n",
    "        avg=sum(value)/len(value)\n",
    "    except ValueError:\n",
    "        print(\"The enter value is not valid\")\n",
    "    else:\n",
    "        print(\"The average of integers :\",avg)\n",
    "    finally:\n",
    "            print(\"The program has finished running\")\n",
    "integer()"
   ]
  },
  {
   "cell_type": "code",
   "execution_count": 140,
   "id": "f70a248b-8918-438b-8d33-96963b46d50d",
   "metadata": {},
   "outputs": [
    {
     "name": "stdin",
     "output_type": "stream",
     "text": [
      "Enter a file name ra\n",
      "Enter a words in a string g\n"
     ]
    },
    {
     "name": "stdout",
     "output_type": "stream",
     "text": [
      "The entered words are not string write() argument must be str, not list\n"
     ]
    }
   ],
   "source": [
    "def document():\n",
    "    file_name = input(\"Enter a file name\")\n",
    "    content = input(\"Enter a words in a string\")\n",
    "    try:\n",
    "        content = [str(x) for x in content.split()]\n",
    "        with open(file_name,'w')as file:\n",
    "            file.write(content)\n",
    "            print(\"Welcome message\")\n",
    "    except Exception as e:\n",
    "        print(\"The entered words are not string\",e)\n",
    "document()"
   ]
  },
  {
   "cell_type": "code",
   "execution_count": null,
   "id": "9d650500-498b-4e5a-985c-368e39a8f3ac",
   "metadata": {},
   "outputs": [],
   "source": []
  }
 ],
 "metadata": {
  "kernelspec": {
   "display_name": "Python [conda env:base] *",
   "language": "python",
   "name": "conda-base-py"
  },
  "language_info": {
   "codemirror_mode": {
    "name": "ipython",
    "version": 3
   },
   "file_extension": ".py",
   "mimetype": "text/x-python",
   "name": "python",
   "nbconvert_exporter": "python",
   "pygments_lexer": "ipython3",
   "version": "3.12.7"
  }
 },
 "nbformat": 4,
 "nbformat_minor": 5
}
