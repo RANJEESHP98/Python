{
 "cells": [
  {
   "cell_type": "code",
   "execution_count": 1,
   "id": "6d1b36bf-045a-4dd0-89b5-9c3af345891b",
   "metadata": {},
   "outputs": [],
   "source": [
    "import numpy as np\n",
    "import pandas as pd"
   ]
  },
  {
   "cell_type": "code",
   "execution_count": 15,
   "id": "27b6b216-4fe8-4e44-9f5c-05f2424653e6",
   "metadata": {},
   "outputs": [
    {
     "data": {
      "text/plain": [
       "array([ 1,  2,  3,  4,  5,  6,  7,  8,  9, 10])"
      ]
     },
     "execution_count": 15,
     "metadata": {},
     "output_type": "execute_result"
    }
   ],
   "source": [
    "num = np.arange(1,11)\n",
    "num"
   ]
  },
  {
   "cell_type": "code",
   "execution_count": 23,
   "id": "5164a90d-1342-4569-86b3-5f5ace502f3d",
   "metadata": {},
   "outputs": [
    {
     "name": "stdout",
     "output_type": "stream",
     "text": [
      "[[ 1  2  3  4  5]\n",
      " [ 6  7  8  9 10]]\n",
      "Shape of this matrix is: (2, 5)\n"
     ]
    }
   ],
   "source": [
    "reshape = num.reshape(2,5)\n",
    "reshape\n",
    "print(reshape)\n",
    "print('Shape of this matrix is:',reshape.shape)"
   ]
  },
  {
   "cell_type": "code",
   "execution_count": 25,
   "id": "4fe04daf-562d-456f-ab9a-9048ecd3734d",
   "metadata": {},
   "outputs": [
    {
     "data": {
      "text/plain": [
       "array([ 1,  2,  3,  4,  5,  6,  7,  8,  9, 10, 11, 12, 13, 14, 15, 16, 17,\n",
       "       18, 19, 20])"
      ]
     },
     "execution_count": 25,
     "metadata": {},
     "output_type": "execute_result"
    }
   ],
   "source": [
    "a = np.arange(1,21)\n",
    "a"
   ]
  },
  {
   "cell_type": "code",
   "execution_count": 35,
   "id": "0ae01893-1418-4b7e-9211-f4b23983632a",
   "metadata": {},
   "outputs": [
    {
     "name": "stdout",
     "output_type": "stream",
     "text": [
      "The elements between 5 and 15 is: [ 5  6  7  8  9 10 11 12 13 14 15]\n"
     ]
    }
   ],
   "source": [
    "a1 = np.arange(5,16)\n",
    "a1\n",
    "print('The elements between 5 and 15 is:',a1)"
   ]
  },
  {
   "cell_type": "code",
   "execution_count": 155,
   "id": "107607e5-153f-4e40-b186-966e14cbf820",
   "metadata": {},
   "outputs": [
    {
     "data": {
      "text/plain": [
       "Apple      3\n",
       "Bananas    2\n",
       "Orange     1\n",
       "dtype: int64"
      ]
     },
     "execution_count": 155,
     "metadata": {},
     "output_type": "execute_result"
    }
   ],
   "source": [
    "j = {'Apple':3,'Bananas':2,'Orange':1}\n",
    "series = pd.Series(data=j)\n",
    "series"
   ]
  },
  {
   "cell_type": "code",
   "execution_count": 151,
   "id": "b623324d-4e2d-4846-b918-2d18f21e80c4",
   "metadata": {},
   "outputs": [
    {
     "name": "stdout",
     "output_type": "stream",
     "text": [
      "Apple      3\n",
      "Bananas    2\n",
      "Orange     1\n",
      "Pears      4\n",
      "dtype: int64\n"
     ]
    }
   ],
   "source": [
    "j = {'Apple': 3, 'Bananas': 2, 'Orange': 1}\n",
    "j['Pears'] = 4\n",
    "series = pd.Series(data=j)\n",
    "print(series)\n"
   ]
  },
  {
   "cell_type": "code",
   "execution_count": 163,
   "id": "6f86cc0f-871e-4977-af5a-745bfd197019",
   "metadata": {},
   "outputs": [
    {
     "data": {
      "text/plain": [
       "{'Name': ['Alice',\n",
       "  'Bob',\n",
       "  'Charlie',\n",
       "  'Reghu',\n",
       "  'Keshu',\n",
       "  'Ammu',\n",
       "  'Papu',\n",
       "  'Manju',\n",
       "  'Anju',\n",
       "  'Abhi'],\n",
       " 'Age': [20, 25, 35, 18, 22, 21, 30, 32, 17, 25],\n",
       " 'Gender': ['F', 'M', 'M', 'M', 'M', 'F', 'M', 'F', 'F', 'M']}"
      ]
     },
     "execution_count": 163,
     "metadata": {},
     "output_type": "execute_result"
    }
   ],
   "source": [
    "data = {'Name':['Alice','Bob','Charlie','Reghu','Keshu','Ammu','Papu','Manju','Anju','Abhi'],\n",
    "        'Age':[20,25,35,18,22,21,30,32,17,25],\n",
    "        'Gender':['F','M','M','M','M','F','M','F','F','M']}\n",
    "data"
   ]
  },
  {
   "cell_type": "code",
   "execution_count": 167,
   "id": "0918b597-7578-4272-8e44-9000d20b2791",
   "metadata": {},
   "outputs": [
    {
     "data": {
      "text/plain": [
       "dict"
      ]
     },
     "execution_count": 167,
     "metadata": {},
     "output_type": "execute_result"
    }
   ],
   "source": [
    "type(data)"
   ]
  },
  {
   "cell_type": "code",
   "execution_count": 169,
   "id": "c633cb08-7297-418a-8901-88d81f6b5532",
   "metadata": {},
   "outputs": [
    {
     "data": {
      "text/html": [
       "<div>\n",
       "<style scoped>\n",
       "    .dataframe tbody tr th:only-of-type {\n",
       "        vertical-align: middle;\n",
       "    }\n",
       "\n",
       "    .dataframe tbody tr th {\n",
       "        vertical-align: top;\n",
       "    }\n",
       "\n",
       "    .dataframe thead th {\n",
       "        text-align: right;\n",
       "    }\n",
       "</style>\n",
       "<table border=\"1\" class=\"dataframe\">\n",
       "  <thead>\n",
       "    <tr style=\"text-align: right;\">\n",
       "      <th></th>\n",
       "      <th>Name</th>\n",
       "      <th>Age</th>\n",
       "      <th>Gender</th>\n",
       "    </tr>\n",
       "  </thead>\n",
       "  <tbody>\n",
       "    <tr>\n",
       "      <th>0</th>\n",
       "      <td>Alice</td>\n",
       "      <td>20</td>\n",
       "      <td>F</td>\n",
       "    </tr>\n",
       "    <tr>\n",
       "      <th>1</th>\n",
       "      <td>Bob</td>\n",
       "      <td>25</td>\n",
       "      <td>M</td>\n",
       "    </tr>\n",
       "    <tr>\n",
       "      <th>2</th>\n",
       "      <td>Charlie</td>\n",
       "      <td>35</td>\n",
       "      <td>M</td>\n",
       "    </tr>\n",
       "    <tr>\n",
       "      <th>3</th>\n",
       "      <td>Reghu</td>\n",
       "      <td>18</td>\n",
       "      <td>M</td>\n",
       "    </tr>\n",
       "    <tr>\n",
       "      <th>4</th>\n",
       "      <td>Keshu</td>\n",
       "      <td>22</td>\n",
       "      <td>M</td>\n",
       "    </tr>\n",
       "    <tr>\n",
       "      <th>5</th>\n",
       "      <td>Ammu</td>\n",
       "      <td>21</td>\n",
       "      <td>F</td>\n",
       "    </tr>\n",
       "    <tr>\n",
       "      <th>6</th>\n",
       "      <td>Papu</td>\n",
       "      <td>30</td>\n",
       "      <td>M</td>\n",
       "    </tr>\n",
       "    <tr>\n",
       "      <th>7</th>\n",
       "      <td>Manju</td>\n",
       "      <td>32</td>\n",
       "      <td>F</td>\n",
       "    </tr>\n",
       "    <tr>\n",
       "      <th>8</th>\n",
       "      <td>Anju</td>\n",
       "      <td>17</td>\n",
       "      <td>F</td>\n",
       "    </tr>\n",
       "    <tr>\n",
       "      <th>9</th>\n",
       "      <td>Abhi</td>\n",
       "      <td>25</td>\n",
       "      <td>M</td>\n",
       "    </tr>\n",
       "  </tbody>\n",
       "</table>\n",
       "</div>"
      ],
      "text/plain": [
       "      Name  Age Gender\n",
       "0    Alice   20      F\n",
       "1      Bob   25      M\n",
       "2  Charlie   35      M\n",
       "3    Reghu   18      M\n",
       "4    Keshu   22      M\n",
       "5     Ammu   21      F\n",
       "6     Papu   30      M\n",
       "7    Manju   32      F\n",
       "8     Anju   17      F\n",
       "9     Abhi   25      M"
      ]
     },
     "execution_count": 169,
     "metadata": {},
     "output_type": "execute_result"
    }
   ],
   "source": [
    "details = pd.DataFrame(data)\n",
    "details"
   ]
  },
  {
   "cell_type": "code",
   "execution_count": 173,
   "id": "49d3a8cb-17d2-483e-8ea0-0849b9114d44",
   "metadata": {},
   "outputs": [
    {
     "data": {
      "text/html": [
       "<div>\n",
       "<style scoped>\n",
       "    .dataframe tbody tr th:only-of-type {\n",
       "        vertical-align: middle;\n",
       "    }\n",
       "\n",
       "    .dataframe tbody tr th {\n",
       "        vertical-align: top;\n",
       "    }\n",
       "\n",
       "    .dataframe thead th {\n",
       "        text-align: right;\n",
       "    }\n",
       "</style>\n",
       "<table border=\"1\" class=\"dataframe\">\n",
       "  <thead>\n",
       "    <tr style=\"text-align: right;\">\n",
       "      <th></th>\n",
       "      <th>Name</th>\n",
       "      <th>Age</th>\n",
       "      <th>Gender</th>\n",
       "      <th>Occupation</th>\n",
       "    </tr>\n",
       "  </thead>\n",
       "  <tbody>\n",
       "    <tr>\n",
       "      <th>0</th>\n",
       "      <td>Alice</td>\n",
       "      <td>20</td>\n",
       "      <td>F</td>\n",
       "      <td>Programmer</td>\n",
       "    </tr>\n",
       "    <tr>\n",
       "      <th>1</th>\n",
       "      <td>Bob</td>\n",
       "      <td>25</td>\n",
       "      <td>M</td>\n",
       "      <td>Manager</td>\n",
       "    </tr>\n",
       "    <tr>\n",
       "      <th>2</th>\n",
       "      <td>Charlie</td>\n",
       "      <td>35</td>\n",
       "      <td>M</td>\n",
       "      <td>Analyst</td>\n",
       "    </tr>\n",
       "    <tr>\n",
       "      <th>3</th>\n",
       "      <td>Reghu</td>\n",
       "      <td>18</td>\n",
       "      <td>M</td>\n",
       "      <td>Manager</td>\n",
       "    </tr>\n",
       "    <tr>\n",
       "      <th>4</th>\n",
       "      <td>Keshu</td>\n",
       "      <td>22</td>\n",
       "      <td>M</td>\n",
       "      <td>Programmer</td>\n",
       "    </tr>\n",
       "    <tr>\n",
       "      <th>5</th>\n",
       "      <td>Ammu</td>\n",
       "      <td>21</td>\n",
       "      <td>F</td>\n",
       "      <td>Programmer</td>\n",
       "    </tr>\n",
       "    <tr>\n",
       "      <th>6</th>\n",
       "      <td>Papu</td>\n",
       "      <td>30</td>\n",
       "      <td>M</td>\n",
       "      <td>Programmer</td>\n",
       "    </tr>\n",
       "    <tr>\n",
       "      <th>7</th>\n",
       "      <td>Manju</td>\n",
       "      <td>32</td>\n",
       "      <td>F</td>\n",
       "      <td>Analyst</td>\n",
       "    </tr>\n",
       "    <tr>\n",
       "      <th>8</th>\n",
       "      <td>Anju</td>\n",
       "      <td>17</td>\n",
       "      <td>F</td>\n",
       "      <td>Analyst</td>\n",
       "    </tr>\n",
       "    <tr>\n",
       "      <th>9</th>\n",
       "      <td>Abhi</td>\n",
       "      <td>25</td>\n",
       "      <td>M</td>\n",
       "      <td>Analyst</td>\n",
       "    </tr>\n",
       "  </tbody>\n",
       "</table>\n",
       "</div>"
      ],
      "text/plain": [
       "      Name  Age Gender  Occupation\n",
       "0    Alice   20      F  Programmer\n",
       "1      Bob   25      M     Manager\n",
       "2  Charlie   35      M     Analyst\n",
       "3    Reghu   18      M     Manager\n",
       "4    Keshu   22      M  Programmer\n",
       "5     Ammu   21      F  Programmer\n",
       "6     Papu   30      M  Programmer\n",
       "7    Manju   32      F     Analyst\n",
       "8     Anju   17      F     Analyst\n",
       "9     Abhi   25      M     Analyst"
      ]
     },
     "execution_count": 173,
     "metadata": {},
     "output_type": "execute_result"
    }
   ],
   "source": [
    "details['Occupation'] =['Programmer','Manager','Analyst','Manager','Programmer','Programmer','Programmer','Analyst','Analyst','Analyst']\n",
    "details"
   ]
  },
  {
   "cell_type": "code",
   "execution_count": 175,
   "id": "281bcd67-dd24-4427-9a83-9e15a4522e26",
   "metadata": {},
   "outputs": [
    {
     "data": {
      "text/html": [
       "<div>\n",
       "<style scoped>\n",
       "    .dataframe tbody tr th:only-of-type {\n",
       "        vertical-align: middle;\n",
       "    }\n",
       "\n",
       "    .dataframe tbody tr th {\n",
       "        vertical-align: top;\n",
       "    }\n",
       "\n",
       "    .dataframe thead th {\n",
       "        text-align: right;\n",
       "    }\n",
       "</style>\n",
       "<table border=\"1\" class=\"dataframe\">\n",
       "  <thead>\n",
       "    <tr style=\"text-align: right;\">\n",
       "      <th></th>\n",
       "      <th>Name</th>\n",
       "      <th>Age</th>\n",
       "      <th>Gender</th>\n",
       "      <th>Occupation</th>\n",
       "    </tr>\n",
       "  </thead>\n",
       "  <tbody>\n",
       "    <tr>\n",
       "      <th>2</th>\n",
       "      <td>Charlie</td>\n",
       "      <td>35</td>\n",
       "      <td>M</td>\n",
       "      <td>Analyst</td>\n",
       "    </tr>\n",
       "    <tr>\n",
       "      <th>6</th>\n",
       "      <td>Papu</td>\n",
       "      <td>30</td>\n",
       "      <td>M</td>\n",
       "      <td>Programmer</td>\n",
       "    </tr>\n",
       "    <tr>\n",
       "      <th>7</th>\n",
       "      <td>Manju</td>\n",
       "      <td>32</td>\n",
       "      <td>F</td>\n",
       "      <td>Analyst</td>\n",
       "    </tr>\n",
       "  </tbody>\n",
       "</table>\n",
       "</div>"
      ],
      "text/plain": [
       "      Name  Age Gender  Occupation\n",
       "2  Charlie   35      M     Analyst\n",
       "6     Papu   30      M  Programmer\n",
       "7    Manju   32      F     Analyst"
      ]
     },
     "execution_count": 175,
     "metadata": {},
     "output_type": "execute_result"
    }
   ],
   "source": [
    "new_details = details[details['Age']>=30]\n",
    "new_details"
   ]
  },
  {
   "cell_type": "code",
   "execution_count": 179,
   "id": "e2a173e2-e531-4db4-91cf-d9023acadf38",
   "metadata": {},
   "outputs": [],
   "source": [
    "new_details.to_csv('Company_details.csv',index =False)\n"
   ]
  },
  {
   "cell_type": "code",
   "execution_count": 183,
   "id": "25ed0291-ccbb-40d5-a60c-46b7399f70d6",
   "metadata": {},
   "outputs": [
    {
     "name": "stdout",
     "output_type": "stream",
     "text": [
      "Name,Age,Gender,Occupation\n",
      "Charlie,35,M,Analyst\n",
      "Papu,30,M,Programmer\n",
      "Manju,32,F,Analyst\n",
      "\n"
     ]
    }
   ],
   "source": [
    "with open('company_details.csv','r')as detail1:\n",
    "    content =detail1.read()\n",
    "    print(content)"
   ]
  },
  {
   "cell_type": "code",
   "execution_count": null,
   "id": "6644035f-1878-4763-8b50-40a16081e728",
   "metadata": {},
   "outputs": [],
   "source": []
  }
 ],
 "metadata": {
  "kernelspec": {
   "display_name": "Python [conda env:base] *",
   "language": "python",
   "name": "conda-base-py"
  },
  "language_info": {
   "codemirror_mode": {
    "name": "ipython",
    "version": 3
   },
   "file_extension": ".py",
   "mimetype": "text/x-python",
   "name": "python",
   "nbconvert_exporter": "python",
   "pygments_lexer": "ipython3",
   "version": "3.12.7"
  }
 },
 "nbformat": 4,
 "nbformat_minor": 5
}
