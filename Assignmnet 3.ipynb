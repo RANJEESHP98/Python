{
 "cells": [
  {
   "cell_type": "markdown",
   "id": "d310f245-f7cf-4f34-8f93-e940d60f08bc",
   "metadata": {},
   "source": [
    "# MonthNames.py"
   ]
  },
  {
   "cell_type": "markdown",
   "id": "72b355a6-b52a-4e12-9c4f-dfcd0207d88b",
   "metadata": {},
   "source": [
    " Excersise 1\n",
    " Write a program that reads an integer value between 1 and 12 from the user and prints output the corresponding month of the year."
   ]
  },
  {
   "cell_type": "code",
   "execution_count": 77,
   "id": "c6c5e214-47fd-4312-946a-ee26cdbc9b59",
   "metadata": {},
   "outputs": [
    {
     "name": "stdin",
     "output_type": "stream",
     "text": [
      "Enter a Month:  3\n"
     ]
    },
    {
     "name": "stdout",
     "output_type": "stream",
     "text": [
      "Month 3 is March\n"
     ]
    }
   ],
   "source": [
    "num = int(input(\"Enter a Month: \"))\n",
    "\n",
    "months = [\"January\", \"February\", \"March\", \"April\", \"May\", \"June\",\n",
    "          \"July\", \"August\", \"September\", \"October\", \"November\", \"December\"]\n",
    "if 1 <= num <= 12:\n",
    "    print(f\"Month {num} is {months[num - 1]}\")  \n",
    "else:\n",
    "    print(\"It is a wrong number\")\n"
   ]
  },
  {
   "cell_type": "markdown",
   "id": "e06d9671-7572-48bf-8504-7fe79f5e347f",
   "metadata": {},
   "source": [
    " Excersise 2\n",
    " A certain cinema currently sells tickets for a full price of 6 pounds, but always sells tickets for half price to people who are less than 16 years old, and for a third of the price for people who are 60 years old or more.\n"
   ]
  },
  {
   "cell_type": "code",
   "execution_count": 104,
   "id": "8d3729b0-266e-491c-936e-782685475ec6",
   "metadata": {},
   "outputs": [
    {
     "name": "stdin",
     "output_type": "stream",
     "text": [
      "Enter your age 63\n"
     ]
    },
    {
     "name": "stdout",
     "output_type": "stream",
     "text": [
      "The ticket cost is: 2\n"
     ]
    }
   ],
   "source": [
    "age=int(input(\"Enter your age\"))\n",
    "if age<16:\n",
    "    price1= ticket_price//2\n",
    "    print(\"The ticket cost is:\",price1)\n",
    "    \n",
    "elif age>=60:\n",
    "    price2 = ticket_price//3\n",
    "    print(\"The ticket cost is:\",price2)\n",
    "    \n",
    "\n",
    "else:\n",
    "    price3 = ticket_price\n",
    "    print(\"The ticket cost is:\",price3)\n",
    "    \n",
    "    \n",
    "    \n",
    "    "
   ]
  },
  {
   "cell_type": "markdown",
   "id": "23f75264-a96f-4fdb-b7d3-3f3274da41a8",
   "metadata": {},
   "source": [
    " # BodyMassIndex.py"
   ]
  },
  {
   "cell_type": "markdown",
   "id": "8d947da6-e973-4f51-a34a-3b67b56b19ef",
   "metadata": {},
   "source": [
    " Exercise 3\n",
    "write a program to calculate your BMI and give weight status. Body Mass Index (BMI) is an internationally used measurement to check if you are a healthy weight for your height.The metric BMI formula accepts weight in kilograms and height in meters:"
   ]
  },
  {
   "cell_type": "code",
   "execution_count": 167,
   "id": "0b4020e5-0ed6-4b18-9d6f-ec639364f58d",
   "metadata": {},
   "outputs": [
    {
     "name": "stdin",
     "output_type": "stream",
     "text": [
      "Enter your weight in kilograms:  75\n",
      "Enter your height in meters:  1.70\n"
     ]
    },
    {
     "name": "stdout",
     "output_type": "stream",
     "text": [
      "Your BMI is: 1.4201183431952662\n",
      "Underweight\n",
      "Your weight status is: None\n"
     ]
    }
   ],
   "source": [
    "weight = int(input(\"Enter your weight in kilograms: \"))\n",
    "height = float(input(\"Enter your height in meters: \"))\n",
    "\n",
    "def calculate_bmi(weight, height):\n",
    "    bmi = weight / (height ** 2)\n",
    "    print(\"bmi\")\n",
    "\n",
    "def weight_status(bmi):\n",
    "    if bmi < 18.5:\n",
    "        print(\"Underweight\")\n",
    "    elif 18.5 <= bmi < 25:\n",
    "        print(\"Normal\")\n",
    "    elif 25 <= bmi < 30:\n",
    "        print(\"Overweight\")\n",
    "    else:\n",
    "        print (\"Obese\")\n",
    "print(f\"Your BMI is: {bmi}\")\n",
    "print(f\"Your weight status is: {weight_status(bmi)}\")\n"
   ]
  },
  {
   "cell_type": "markdown",
   "id": "e0865c85-3414-411f-8000-80be55630e18",
   "metadata": {},
   "source": [
    "Excersice 4\n",
    "Write a Python program to receive 3 numbers from the user and print the greatest among them.\n"
   ]
  },
  {
   "cell_type": "code",
   "execution_count": 180,
   "id": "ca869854-ac1f-4e3f-92f2-d87ca577debc",
   "metadata": {},
   "outputs": [
    {
     "name": "stdin",
     "output_type": "stream",
     "text": [
      "Enter a number:  30\n",
      "Enter a number:  10\n",
      "Enter a number:  20\n"
     ]
    },
    {
     "name": "stdout",
     "output_type": "stream",
     "text": [
      "The greatest number is: 30\n"
     ]
    }
   ],
   "source": [
    "num1 = int(input(\"Enter a number: \"))\n",
    "num2 = int(input(\"Enter a number: \"))\n",
    "num3 = int(input(\"Enter a number: \"))\n",
    "\n",
    "if num1 > num2 and num1 > num3:\n",
    "    print(\"The greatest number is:\", num1)\n",
    "elif num2 > num1 and num2 > num3:\n",
    "    print(\"The greatest number is:\", num2)\n",
    "else:\n",
    "    print(\"The greatest number is:\", num3)\n"
   ]
  },
  {
   "cell_type": "markdown",
   "id": "60409614-fe03-4857-bafd-52f351d7d54c",
   "metadata": {},
   "source": [
    "\n",
    "Exercise 5\n",
    "Find the factorial of a given number using loops(note the number is received from the user)\n"
   ]
  },
  {
   "cell_type": "code",
   "execution_count": 203,
   "id": "eb223ff7-4e0c-4f50-a593-bffe47abc763",
   "metadata": {},
   "outputs": [
    {
     "name": "stdin",
     "output_type": "stream",
     "text": [
      "Enter a number 5\n"
     ]
    },
    {
     "name": "stdout",
     "output_type": "stream",
     "text": [
      "Factorial of 5 is 1\n",
      "Factorial of 5 is 2\n",
      "Factorial of 5 is 6\n",
      "Factorial of 5 is 24\n",
      "Factorial of 5 is 120\n"
     ]
    }
   ],
   "source": [
    "num =int(input(\"Enter a number\"))\n",
    "factorial =1\n",
    "for i in range (1,num+1):\n",
    "    factorial*=i\n",
    "    print(f\"Factorial of {num} is {factorial}\")\n"
   ]
  },
  {
   "cell_type": "markdown",
   "id": "76e5b441-b655-4f08-9690-4f1270800696",
   "metadata": {},
   "source": [
    "Exercise 6\n",
    "Reverse a number using while loop\n"
   ]
  },
  {
   "cell_type": "code",
   "execution_count": 256,
   "id": "22cb871e-4295-46d0-951e-295afb44ec87",
   "metadata": {},
   "outputs": [
    {
     "name": "stdout",
     "output_type": "stream",
     "text": [
      "Reversed number: 1\n"
     ]
    }
   ],
   "source": [
    "num = 10\n",
    "rev = 0\n",
    "\n",
    "while num > 0:  \n",
    "    rev = rev * 10 + num % 10  \n",
    "    num = num //10 \n",
    "print(\"Reversed number:\", rev)\n"
   ]
  },
  {
   "cell_type": "markdown",
   "id": "f24b8af7-f632-4a6f-8e7e-2557aa6392d3",
   "metadata": {},
   "source": [
    "Exercise 7\n",
    "Finding the multiples of a number using loop\n"
   ]
  },
  {
   "cell_type": "code",
   "execution_count": 9,
   "id": "a7a977a0-4297-401e-aa1b-5f6d7cc5932e",
   "metadata": {},
   "outputs": [
    {
     "name": "stdin",
     "output_type": "stream",
     "text": [
      "Enter a number 2\n"
     ]
    },
    {
     "name": "stdout",
     "output_type": "stream",
     "text": [
      " 2 multiple with 2 is 4\n",
      " 2 multiple with 3 is 6\n",
      " 2 multiple with 4 is 8\n",
      " 2 multiple with 5 is 10\n",
      " 2 multiple with 6 is 12\n",
      " 2 multiple with 7 is 14\n",
      " 2 multiple with 8 is 16\n",
      " 2 multiple with 9 is 18\n",
      " 2 multiple with 10 is 20\n"
     ]
    }
   ],
   "source": [
    "num=int(input(\"Enter a number\"))\n",
    "for i in range(1,10):\n",
    "    i+=1\n",
    "    m=i*num  \n",
    "    print(f\" {num} multiple with {i} is {m}\")\n",
    "    "
   ]
  },
  {
   "cell_type": "markdown",
   "id": "81a466a3-c5a3-4a7f-a674-a14793d67731",
   "metadata": {},
   "source": [
    "\n",
    "Exercise 8\n",
    "Write a program to print the inputted value as it is and break the loop if the value is 'done'.\n"
   ]
  },
  {
   "cell_type": "code",
   "execution_count": 27,
   "id": "3f33b15b-85f6-4fa4-a0ad-a113650d0de0",
   "metadata": {},
   "outputs": [
    {
     "name": "stdin",
     "output_type": "stream",
     "text": [
      ": done\n"
     ]
    },
    {
     "name": "stdout",
     "output_type": "stream",
     "text": [
      "done\n"
     ]
    }
   ],
   "source": [
    "while True:\n",
    "    value = input(\":\")\n",
    "    print(value)\n",
    "    if value == \"done\":\n",
    "        break\n",
    "\n",
    "\n"
   ]
  },
  {
   "cell_type": "markdown",
   "id": "b9c59497-872d-43c9-82ac-c2ba8a092ba9",
   "metadata": {},
   "source": [
    "Exercise 9\n",
    "Write a program that prints the numbers from 1 to 10. But for multiples of three print \"Fizz\" instead of the number and for the multiple of five print \"Buzz\". For numbers which are multiples of both three and five print \"FizzBuzz\"\n"
   ]
  },
  {
   "cell_type": "code",
   "execution_count": 33,
   "id": "b97cc7c6-465f-4ac0-abea-86720c186cb3",
   "metadata": {},
   "outputs": [
    {
     "name": "stdout",
     "output_type": "stream",
     "text": [
      "1\n",
      "2\n",
      "Fizz\n",
      "4\n",
      "Buzz\n",
      "Fizz\n",
      "7\n",
      "8\n",
      "Fizz\n",
      "Buzz\n",
      "11\n",
      "Fizz\n",
      "13\n",
      "14\n",
      "FizzBuzz\n",
      "16\n",
      "17\n",
      "Fizz\n",
      "19\n"
     ]
    }
   ],
   "source": [
    "for i in range (1,20):\n",
    "    if i % 3 ==0 and i % 5 ==0:\n",
    "        print(\"FizzBuzz\")\n",
    "    elif i % 3 ==0:\n",
    "        print(\"Fizz\")\n",
    "    elif i % 5 ==0:\n",
    "        print(\"Buzz\")\n",
    "    else:\n",
    "        print(i)\n",
    "    "
   ]
  },
  {
   "cell_type": "markdown",
   "id": "abebb97c-efc1-493a-81dd-2df7d9cfe3c5",
   "metadata": {},
   "source": [
    "Exercise 10\n",
    "Write a program to print the following pattern:\n"
   ]
  },
  {
   "cell_type": "code",
   "execution_count": 48,
   "id": "b1a34c96-b9e8-4e9a-8d31-3dd60c46dc5d",
   "metadata": {},
   "outputs": [
    {
     "name": "stdout",
     "output_type": "stream",
     "text": [
      "5 4 3 2 1 \n",
      "4 3 2 1 \n",
      "3 2 1 \n",
      "2 1 \n",
      "1 \n",
      "\n"
     ]
    }
   ],
   "source": [
    "num = 5\n",
    "for i in range (0 ,num +1):\n",
    "    for j in range (num -i,0,-1):\n",
    "        print(j, end=' ')\n",
    "    print()\n",
    "\n",
    "\n"
   ]
  },
  {
   "cell_type": "code",
   "execution_count": null,
   "id": "7583057f-1e19-4b48-ac71-5364ccea4e77",
   "metadata": {},
   "outputs": [],
   "source": []
  }
 ],
 "metadata": {
  "kernelspec": {
   "display_name": "Python [conda env:base] *",
   "language": "python",
   "name": "conda-base-py"
  },
  "language_info": {
   "codemirror_mode": {
    "name": "ipython",
    "version": 3
   },
   "file_extension": ".py",
   "mimetype": "text/x-python",
   "name": "python",
   "nbconvert_exporter": "python",
   "pygments_lexer": "ipython3",
   "version": "3.12.7"
  }
 },
 "nbformat": 4,
 "nbformat_minor": 5
}
